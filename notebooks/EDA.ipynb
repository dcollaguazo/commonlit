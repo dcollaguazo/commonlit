{
 "cells": [
  {
   "cell_type": "code",
   "execution_count": 6,
   "id": "572bf584-0478-4746-84e0-f6e9b15a274b",
   "metadata": {},
   "outputs": [],
   "source": [
    "#importing necessery libraries\n",
    "import os\n",
    "import io\n",
    "import re\n",
    "from datetime import datetime\n",
    "import numpy as np\n",
    "import pandas as pd\n",
    "import matplotlib\n",
    "import matplotlib.pyplot as plt\n",
    "import seaborn as sns\n",
    "from zipfile import ZipFile\n",
    "from sklearn.model_selection import train_test_split\n",
    "import spacy"
   ]
  },
  {
   "cell_type": "markdown",
   "id": "0f9152e2-4c65-4aad-84f0-461112657c50",
   "metadata": {},
   "source": [
    "# Importing Data"
   ]
  },
  {
   "cell_type": "code",
   "execution_count": 2,
   "id": "e7a85bf0-cf3e-4ce6-9aa2-92588794ba48",
   "metadata": {},
   "outputs": [
    {
     "name": "stdout",
     "output_type": "stream",
     "text": [
      "File Name                                             Modified             Size\n",
      "sample_submission.csv                          2021-05-02 22:19:12          108\n",
      "test.csv                                       2021-05-02 22:19:12         6957\n",
      "train.csv                                      2021-05-02 22:19:12      2927187\n",
      "Extracting all the files now...\n",
      "Done!\n"
     ]
    }
   ],
   "source": [
    "path = \"../data\"\n",
    "\n",
    "# specifying the zip file name\n",
    "file_name = os.path.join(path,\"commonlitreadabilityprize.zip\")\n",
    "\n",
    "# opening the zip file in READ mode\n",
    "with ZipFile(file_name, 'r') as zip:\n",
    "    # printing all the contents of the zip file\n",
    "    zip.printdir()\n",
    "\n",
    "    # extracting all the files\n",
    "    print('Extracting all the files now...')\n",
    "    zip.extractall(path)\n",
    "    print('Done!')\n"
   ]
  },
  {
   "cell_type": "code",
   "execution_count": 3,
   "id": "97374c93-8a61-4261-8564-cbe74d9a396a",
   "metadata": {},
   "outputs": [],
   "source": [
    "data_path = os.path.join(path,'train.csv')\n",
    "data = pd.read_csv(data_path, usecols=['id','excerpt','target','standard_error'],  index_col = 'id')"
   ]
  },
  {
   "cell_type": "code",
   "execution_count": 4,
   "id": "67bff3f9-10ad-46d6-ac6f-aec7fc6db3e3",
   "metadata": {},
   "outputs": [
    {
     "data": {
      "text/html": [
       "<div>\n",
       "<style scoped>\n",
       "    .dataframe tbody tr th:only-of-type {\n",
       "        vertical-align: middle;\n",
       "    }\n",
       "\n",
       "    .dataframe tbody tr th {\n",
       "        vertical-align: top;\n",
       "    }\n",
       "\n",
       "    .dataframe thead th {\n",
       "        text-align: right;\n",
       "    }\n",
       "</style>\n",
       "<table border=\"1\" class=\"dataframe\">\n",
       "  <thead>\n",
       "    <tr style=\"text-align: right;\">\n",
       "      <th></th>\n",
       "      <th>excerpt</th>\n",
       "      <th>target</th>\n",
       "      <th>standard_error</th>\n",
       "    </tr>\n",
       "    <tr>\n",
       "      <th>id</th>\n",
       "      <th></th>\n",
       "      <th></th>\n",
       "      <th></th>\n",
       "    </tr>\n",
       "  </thead>\n",
       "  <tbody>\n",
       "    <tr>\n",
       "      <th>c12129c31</th>\n",
       "      <td>When the young people returned to the ballroom...</td>\n",
       "      <td>-0.340259</td>\n",
       "      <td>0.464009</td>\n",
       "    </tr>\n",
       "    <tr>\n",
       "      <th>85aa80a4c</th>\n",
       "      <td>All through dinner time, Mrs. Fayre was somewh...</td>\n",
       "      <td>-0.315372</td>\n",
       "      <td>0.480805</td>\n",
       "    </tr>\n",
       "    <tr>\n",
       "      <th>b69ac6792</th>\n",
       "      <td>As Roger had predicted, the snow departed as q...</td>\n",
       "      <td>-0.580118</td>\n",
       "      <td>0.476676</td>\n",
       "    </tr>\n",
       "    <tr>\n",
       "      <th>dd1000b26</th>\n",
       "      <td>And outside before the palace a great garden w...</td>\n",
       "      <td>-1.054013</td>\n",
       "      <td>0.450007</td>\n",
       "    </tr>\n",
       "    <tr>\n",
       "      <th>37c1b32fb</th>\n",
       "      <td>Once upon a time there were Three Bears who li...</td>\n",
       "      <td>0.247197</td>\n",
       "      <td>0.510845</td>\n",
       "    </tr>\n",
       "  </tbody>\n",
       "</table>\n",
       "</div>"
      ],
      "text/plain": [
       "                                                     excerpt    target  \\\n",
       "id                                                                       \n",
       "c12129c31  When the young people returned to the ballroom... -0.340259   \n",
       "85aa80a4c  All through dinner time, Mrs. Fayre was somewh... -0.315372   \n",
       "b69ac6792  As Roger had predicted, the snow departed as q... -0.580118   \n",
       "dd1000b26  And outside before the palace a great garden w... -1.054013   \n",
       "37c1b32fb  Once upon a time there were Three Bears who li...  0.247197   \n",
       "\n",
       "           standard_error  \n",
       "id                         \n",
       "c12129c31        0.464009  \n",
       "85aa80a4c        0.480805  \n",
       "b69ac6792        0.476676  \n",
       "dd1000b26        0.450007  \n",
       "37c1b32fb        0.510845  "
      ]
     },
     "execution_count": 4,
     "metadata": {},
     "output_type": "execute_result"
    }
   ],
   "source": [
    "data.head()"
   ]
  },
  {
   "cell_type": "code",
   "execution_count": 8,
   "id": "c8b0bffe-e974-4dc9-9e21-23a017c1dc33",
   "metadata": {},
   "outputs": [
    {
     "data": {
      "text/plain": [
       "'All through dinner time, Mrs. Fayre was somewhat silent, her eyes resting on Dolly with a wistful, uncertain expression. She wanted to give the child the pleasure she craved, but she had hard work to bring herself to the point of overcoming her own objections.\\nAt last, however, when the meal was nearly over, she smiled at her little daughter, and said, \"All right, Dolly, you may go.\"\\n\"Oh, mother!\" Dolly cried, overwhelmed with sudden delight. \"Really?\\nOh, I am so glad! Are you sure you\\'re willing?\"\\n\"I\\'ve persuaded myself to be willing, against my will,\" returned Mrs. Fayre, whimsically. \"I confess I just hate to have you go, but I can\\'t bear to deprive you of the pleasure trip. And, as you say, it would also keep Dotty at home, and so, altogether, I think I shall have to give in.\"\\n\"Oh, you angel mother! You blessed lady! How good you are!\" And Dolly flew around the table and gave her mother a hug that nearly suffocated her.'"
      ]
     },
     "execution_count": 8,
     "metadata": {},
     "output_type": "execute_result"
    }
   ],
   "source": [
    "data.excerpt.tolist()[1]"
   ]
  },
  {
   "cell_type": "markdown",
   "id": "a0a82b6d-5ae8-4461-b2b8-c1d2f7ee8edb",
   "metadata": {},
   "source": [
    "### EDA"
   ]
  },
  {
   "cell_type": "code",
   "execution_count": null,
   "id": "3e661968-4945-49d0-b51c-5174cce70efa",
   "metadata": {},
   "outputs": [],
   "source": [
    "# excerpt length\n",
    "# sentence length\n",
    "# average word length\n",
    "# tf-idf threshold least common words\n",
    "# unique vocab \n",
    "# excerpt similarity for model eval\n",
    "# POS \n",
    "# number of stopwords\n",
    "# entity recognition\n",
    "\n",
    "# compare results after pre-processing text\n",
    "# tf-idf threshold least common words\n",
    "\n",
    "# pre-processing steps:\n",
    "# stemming\n",
    "# lemmatization\n",
    "# punctuation\n",
    "# stopwords\n",
    "# lowercase"
   ]
  },
  {
   "cell_type": "code",
   "execution_count": 61,
   "id": "fcac6971-f8ba-44e0-8a71-9fc6844bbb71",
   "metadata": {},
   "outputs": [],
   "source": [
    "def pos(text):\n",
    "    doc = nlp(text)\n",
    "    return [token.pos_ for token in doc]\n",
    "def is_stop(text):\n",
    "    doc = nlp(text)\n",
    "    return sum([token.is_stop for token in doc]) / len(doc)\n",
    "def avg_token_length(text):\n",
    "    doc = nlp(text)\n",
    "    return np.mean([len(token.text) for token in doc if not token.is_stop])\n",
    "def n_token_sents(text):\n",
    "    doc = nlp(text)\n",
    "    return np.mean([len(sent) for sent in doc.sents])\n",
    "def n_sents(text):\n",
    "    doc = nlp(text)\n",
    "    return len(list(doc.sents))"
   ]
  },
  {
   "cell_type": "code",
   "execution_count": 62,
   "id": "6ea2e1e3-1bc4-412f-9e6f-b0e06ccfc265",
   "metadata": {},
   "outputs": [],
   "source": [
    "data['excerpt_length'] = data.excerpt.apply(lambda x: len(x))\n",
    "data['n_sents'] = data.excerpt.apply(lambda x: n_sents(x))\n",
    "data['pos'] = data.excerpt.apply(lambda x: pos(x))\n",
    "data['n_stop_words'] = data.excerpt.apply(lambda x: is_stop(x))\n",
    "data['avg_token_length'] = data.excerpt.apply(lambda x: avg_token_length(x))\n",
    "data['n_token_sents'] = data.excerpt.apply(lambda x: n_token_sents(x))"
   ]
  },
  {
   "cell_type": "code",
   "execution_count": 44,
   "id": "accae9ca-bac7-49e2-9ac8-d733e627b0ed",
   "metadata": {},
   "outputs": [],
   "source": [
    "from sklearn.feature_extraction.text import TfidfVectorizer\n",
    "corpus = [\n",
    "    'This is the first document.',\n",
    "    'This document is the second document.',\n",
    "    'And this is the third one.',\n",
    "    'Is this the first document?',\n",
    "]\n",
    "vectorizer = TfidfVectorizer()"
   ]
  },
  {
   "cell_type": "code",
   "execution_count": 59,
   "id": "daf7a66d-820b-4ab0-9560-b7675c1d3293",
   "metadata": {},
   "outputs": [
    {
     "data": {
      "text/html": [
       "<div>\n",
       "<style scoped>\n",
       "    .dataframe tbody tr th:only-of-type {\n",
       "        vertical-align: middle;\n",
       "    }\n",
       "\n",
       "    .dataframe tbody tr th {\n",
       "        vertical-align: top;\n",
       "    }\n",
       "\n",
       "    .dataframe thead th {\n",
       "        text-align: right;\n",
       "    }\n",
       "</style>\n",
       "<table border=\"1\" class=\"dataframe\">\n",
       "  <thead>\n",
       "    <tr style=\"text-align: right;\">\n",
       "      <th></th>\n",
       "      <th>absorbed</th>\n",
       "      <th>accepted</th>\n",
       "      <th>affected</th>\n",
       "      <th>after</th>\n",
       "      <th>again</th>\n",
       "      <th>against</th>\n",
       "      <th>all</th>\n",
       "      <th>also</th>\n",
       "      <th>altogether</th>\n",
       "      <th>am</th>\n",
       "      <th>...</th>\n",
       "      <th>will</th>\n",
       "      <th>willing</th>\n",
       "      <th>winter</th>\n",
       "      <th>wistful</th>\n",
       "      <th>with</th>\n",
       "      <th>work</th>\n",
       "      <th>would</th>\n",
       "      <th>yet</th>\n",
       "      <th>you</th>\n",
       "      <th>young</th>\n",
       "    </tr>\n",
       "  </thead>\n",
       "  <tbody>\n",
       "    <tr>\n",
       "      <th>0</th>\n",
       "      <td>0.000000</td>\n",
       "      <td>0.000000</td>\n",
       "      <td>0.000000</td>\n",
       "      <td>0.000000</td>\n",
       "      <td>0.000000</td>\n",
       "      <td>0.000000</td>\n",
       "      <td>0.000000</td>\n",
       "      <td>0.039764</td>\n",
       "      <td>0.000000</td>\n",
       "      <td>0.000000</td>\n",
       "      <td>...</td>\n",
       "      <td>0.000000</td>\n",
       "      <td>0.000000</td>\n",
       "      <td>0.052284</td>\n",
       "      <td>0.000000</td>\n",
       "      <td>0.092640</td>\n",
       "      <td>0.000000</td>\n",
       "      <td>0.039764</td>\n",
       "      <td>0.000000</td>\n",
       "      <td>0.000000</td>\n",
       "      <td>0.052284</td>\n",
       "    </tr>\n",
       "    <tr>\n",
       "      <th>1</th>\n",
       "      <td>0.000000</td>\n",
       "      <td>0.000000</td>\n",
       "      <td>0.000000</td>\n",
       "      <td>0.000000</td>\n",
       "      <td>0.000000</td>\n",
       "      <td>0.046956</td>\n",
       "      <td>0.093912</td>\n",
       "      <td>0.046956</td>\n",
       "      <td>0.061741</td>\n",
       "      <td>0.061741</td>\n",
       "      <td>...</td>\n",
       "      <td>0.061741</td>\n",
       "      <td>0.123482</td>\n",
       "      <td>0.000000</td>\n",
       "      <td>0.061741</td>\n",
       "      <td>0.072931</td>\n",
       "      <td>0.061741</td>\n",
       "      <td>0.046956</td>\n",
       "      <td>0.000000</td>\n",
       "      <td>0.422602</td>\n",
       "      <td>0.000000</td>\n",
       "    </tr>\n",
       "    <tr>\n",
       "      <th>2</th>\n",
       "      <td>0.065719</td>\n",
       "      <td>0.065719</td>\n",
       "      <td>0.065719</td>\n",
       "      <td>0.065719</td>\n",
       "      <td>0.065719</td>\n",
       "      <td>0.099962</td>\n",
       "      <td>0.049981</td>\n",
       "      <td>0.000000</td>\n",
       "      <td>0.000000</td>\n",
       "      <td>0.000000</td>\n",
       "      <td>...</td>\n",
       "      <td>0.000000</td>\n",
       "      <td>0.000000</td>\n",
       "      <td>0.000000</td>\n",
       "      <td>0.000000</td>\n",
       "      <td>0.038815</td>\n",
       "      <td>0.000000</td>\n",
       "      <td>0.000000</td>\n",
       "      <td>0.065719</td>\n",
       "      <td>0.199923</td>\n",
       "      <td>0.000000</td>\n",
       "    </tr>\n",
       "  </tbody>\n",
       "</table>\n",
       "<p>3 rows × 270 columns</p>\n",
       "</div>"
      ],
      "text/plain": [
       "   absorbed  accepted  affected     after     again   against       all  \\\n",
       "0  0.000000  0.000000  0.000000  0.000000  0.000000  0.000000  0.000000   \n",
       "1  0.000000  0.000000  0.000000  0.000000  0.000000  0.046956  0.093912   \n",
       "2  0.065719  0.065719  0.065719  0.065719  0.065719  0.099962  0.049981   \n",
       "\n",
       "       also  altogether        am  ...      will   willing    winter  \\\n",
       "0  0.039764    0.000000  0.000000  ...  0.000000  0.000000  0.052284   \n",
       "1  0.046956    0.061741  0.061741  ...  0.061741  0.123482  0.000000   \n",
       "2  0.000000    0.000000  0.000000  ...  0.000000  0.000000  0.000000   \n",
       "\n",
       "    wistful      with      work     would       yet       you     young  \n",
       "0  0.000000  0.092640  0.000000  0.039764  0.000000  0.000000  0.052284  \n",
       "1  0.061741  0.072931  0.061741  0.046956  0.000000  0.422602  0.000000  \n",
       "2  0.000000  0.038815  0.000000  0.000000  0.065719  0.199923  0.000000  \n",
       "\n",
       "[3 rows x 270 columns]"
      ]
     },
     "execution_count": 59,
     "metadata": {},
     "output_type": "execute_result"
    }
   ],
   "source": [
    "vectorizer = TfidfVectorizer()\n",
    "X = vectorizer.fit_transform(data.excerpt.tolist())\n",
    "pd.DataFrame(X.toarray(), columns=vectorizer.get_feature_names())"
   ]
  },
  {
   "cell_type": "markdown",
   "id": "c1b3d1bb-c556-41bf-9cb1-b5f2f1631ffe",
   "metadata": {},
   "source": [
    "# Split train and test dataset"
   ]
  },
  {
   "cell_type": "code",
   "execution_count": 17,
   "id": "1104828d-5632-408c-abb7-902fa2baa55d",
   "metadata": {},
   "outputs": [],
   "source": [
    "X_train, X_test, y_train, y_test = train_test_split(data['excerpt'], data['target'], \n",
    "                                                    test_size=0.3, random_state=42)"
   ]
  },
  {
   "cell_type": "code",
   "execution_count": null,
   "id": "0c21caa3-3bb9-4713-a715-882eab4872df",
   "metadata": {},
   "outputs": [],
   "source": []
  }
 ],
 "metadata": {
  "kernelspec": {
   "display_name": "Python 3",
   "language": "python",
   "name": "python3"
  },
  "language_info": {
   "codemirror_mode": {
    "name": "ipython",
    "version": 3
   },
   "file_extension": ".py",
   "mimetype": "text/x-python",
   "name": "python",
   "nbconvert_exporter": "python",
   "pygments_lexer": "ipython3",
   "version": "3.6.13"
  }
 },
 "nbformat": 4,
 "nbformat_minor": 5
}
